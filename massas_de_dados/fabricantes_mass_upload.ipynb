{
 "cells": [
  {
   "cell_type": "code",
   "execution_count": 7,
   "id": "70e6f930-930c-43f2-b5a8-d8d09ed3619e",
   "metadata": {},
   "outputs": [],
   "source": [
    "import requests\n",
    "import pandas as pd"
   ]
  },
  {
   "cell_type": "code",
   "execution_count": null,
   "id": "2c921d7c-4833-4f2f-b134-6b548373acb0",
   "metadata": {},
   "outputs": [],
   "source": [
    "# defining the api-endpoint \n",
    "url = \"http://localhost:8000/fabricantes/\"\n",
    "df = pd.read_csv('fabricantes.csv',encoding='latin-1', sep = ';') \n",
    "\n",
    "for index, row in df.iterrows(): \n",
    "    dado = {'nome':row[\"FABRICANTE\"]}\n",
    "    resp = requests.post(url, data=dado, auth=('leo', 'leo'))\n",
    "    print(resp)"
   ]
  }
 ],
 "metadata": {
  "kernelspec": {
   "display_name": "Python 3 (ipykernel)",
   "language": "python",
   "name": "python3"
  },
  "language_info": {
   "codemirror_mode": {
    "name": "ipython",
    "version": 3
   },
   "file_extension": ".py",
   "mimetype": "text/x-python",
   "name": "python",
   "nbconvert_exporter": "python",
   "pygments_lexer": "ipython3",
   "version": "3.9.12"
  }
 },
 "nbformat": 4,
 "nbformat_minor": 5
}
